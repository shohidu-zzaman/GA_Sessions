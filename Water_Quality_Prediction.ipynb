{
  "nbformat": 4,
  "nbformat_minor": 0,
  "metadata": {
    "colab": {
      "provenance": [],
      "authorship_tag": "ABX9TyM6DdZOK1zRM242w0qk4Wsw",
      "include_colab_link": true
    },
    "kernelspec": {
      "name": "python3",
      "display_name": "Python 3"
    },
    "language_info": {
      "name": "python"
    },
    "widgets": {
      "application/vnd.jupyter.widget-state+json": {
        "00b3d1d1cba4449c962254127f0e5636": {
          "model_module": "@jupyter-widgets/controls",
          "model_name": "VBoxModel",
          "model_module_version": "1.5.0",
          "state": {
            "_dom_classes": [],
            "_model_module": "@jupyter-widgets/controls",
            "_model_module_version": "1.5.0",
            "_model_name": "VBoxModel",
            "_view_count": null,
            "_view_module": "@jupyter-widgets/controls",
            "_view_module_version": "1.5.0",
            "_view_name": "VBoxView",
            "box_style": "",
            "children": [
              "IPY_MODEL_744eab1890ba4f628648e941d7bc4401",
              "IPY_MODEL_95de864a81c14f0188c135aab775fdd9",
              "IPY_MODEL_fca17c72e4f04ab7993ee158e45102d9",
              "IPY_MODEL_f7786bcb4c1f4a28839492803cde7621",
              "IPY_MODEL_11aab4743fba4ffba3606ea5d0d03f3b",
              "IPY_MODEL_aefb5f64a3ab44e58f62a90e67c8248c",
              "IPY_MODEL_25eba1d18ced492d9b25d4f9851ffb3b",
              "IPY_MODEL_b048e1f10e7547b8beeea457ac1a97b5",
              "IPY_MODEL_ad248b315a724c60a033398eb51ddbc9",
              "IPY_MODEL_d5e34bab266b47d89949b8e43fcd9a03",
              "IPY_MODEL_7bb197a563a442fba8b1986622f57391"
            ],
            "layout": "IPY_MODEL_5b6195a870714d128606f6580a950596"
          }
        },
        "744eab1890ba4f628648e941d7bc4401": {
          "model_module": "@jupyter-widgets/controls",
          "model_name": "FloatTextModel",
          "model_module_version": "1.5.0",
          "state": {
            "_dom_classes": [],
            "_model_module": "@jupyter-widgets/controls",
            "_model_module_version": "1.5.0",
            "_model_name": "FloatTextModel",
            "_view_count": null,
            "_view_module": "@jupyter-widgets/controls",
            "_view_module_version": "1.5.0",
            "_view_name": "FloatTextView",
            "continuous_update": false,
            "description": "pH:",
            "description_tooltip": null,
            "disabled": false,
            "layout": "IPY_MODEL_bcf0c1aa63a84bd185a46d294f01516f",
            "step": null,
            "style": "IPY_MODEL_81055559f21f421bb508a7118621ef50",
            "value": 0
          }
        },
        "95de864a81c14f0188c135aab775fdd9": {
          "model_module": "@jupyter-widgets/controls",
          "model_name": "FloatTextModel",
          "model_module_version": "1.5.0",
          "state": {
            "_dom_classes": [],
            "_model_module": "@jupyter-widgets/controls",
            "_model_module_version": "1.5.0",
            "_model_name": "FloatTextModel",
            "_view_count": null,
            "_view_module": "@jupyter-widgets/controls",
            "_view_module_version": "1.5.0",
            "_view_name": "FloatTextView",
            "continuous_update": false,
            "description": "Hardness:",
            "description_tooltip": null,
            "disabled": false,
            "layout": "IPY_MODEL_dc1273c6470c4a3c9280ba1344d090a1",
            "step": null,
            "style": "IPY_MODEL_ce17914e89864408ab7b4be419e62c0b",
            "value": 0
          }
        },
        "fca17c72e4f04ab7993ee158e45102d9": {
          "model_module": "@jupyter-widgets/controls",
          "model_name": "FloatTextModel",
          "model_module_version": "1.5.0",
          "state": {
            "_dom_classes": [],
            "_model_module": "@jupyter-widgets/controls",
            "_model_module_version": "1.5.0",
            "_model_name": "FloatTextModel",
            "_view_count": null,
            "_view_module": "@jupyter-widgets/controls",
            "_view_module_version": "1.5.0",
            "_view_name": "FloatTextView",
            "continuous_update": false,
            "description": "Solids:",
            "description_tooltip": null,
            "disabled": false,
            "layout": "IPY_MODEL_9a7b3a315f41464dab9d62ae9427b6c6",
            "step": null,
            "style": "IPY_MODEL_51a7e9dcbb8c408fb26799577d4c52f9",
            "value": 0
          }
        },
        "f7786bcb4c1f4a28839492803cde7621": {
          "model_module": "@jupyter-widgets/controls",
          "model_name": "FloatTextModel",
          "model_module_version": "1.5.0",
          "state": {
            "_dom_classes": [],
            "_model_module": "@jupyter-widgets/controls",
            "_model_module_version": "1.5.0",
            "_model_name": "FloatTextModel",
            "_view_count": null,
            "_view_module": "@jupyter-widgets/controls",
            "_view_module_version": "1.5.0",
            "_view_name": "FloatTextView",
            "continuous_update": false,
            "description": "Chloramines:",
            "description_tooltip": null,
            "disabled": false,
            "layout": "IPY_MODEL_4d3fd1ee14984358b4def8a21dd82b0b",
            "step": null,
            "style": "IPY_MODEL_bd46f80ebcb3495abc8135c6e0babeb5",
            "value": 0
          }
        },
        "11aab4743fba4ffba3606ea5d0d03f3b": {
          "model_module": "@jupyter-widgets/controls",
          "model_name": "FloatTextModel",
          "model_module_version": "1.5.0",
          "state": {
            "_dom_classes": [],
            "_model_module": "@jupyter-widgets/controls",
            "_model_module_version": "1.5.0",
            "_model_name": "FloatTextModel",
            "_view_count": null,
            "_view_module": "@jupyter-widgets/controls",
            "_view_module_version": "1.5.0",
            "_view_name": "FloatTextView",
            "continuous_update": false,
            "description": "Sulfate:",
            "description_tooltip": null,
            "disabled": false,
            "layout": "IPY_MODEL_c5482291760d42e5bbca0681738bb27b",
            "step": null,
            "style": "IPY_MODEL_6927dafc2e1643edb0fea05bf4384a2d",
            "value": 0
          }
        },
        "aefb5f64a3ab44e58f62a90e67c8248c": {
          "model_module": "@jupyter-widgets/controls",
          "model_name": "FloatTextModel",
          "model_module_version": "1.5.0",
          "state": {
            "_dom_classes": [],
            "_model_module": "@jupyter-widgets/controls",
            "_model_module_version": "1.5.0",
            "_model_name": "FloatTextModel",
            "_view_count": null,
            "_view_module": "@jupyter-widgets/controls",
            "_view_module_version": "1.5.0",
            "_view_name": "FloatTextView",
            "continuous_update": false,
            "description": "Conductivity:",
            "description_tooltip": null,
            "disabled": false,
            "layout": "IPY_MODEL_5b635879eb7e415eb928d3e94ff74b43",
            "step": null,
            "style": "IPY_MODEL_b70c79337e77450ca5883e4a510557b2",
            "value": 0
          }
        },
        "25eba1d18ced492d9b25d4f9851ffb3b": {
          "model_module": "@jupyter-widgets/controls",
          "model_name": "FloatTextModel",
          "model_module_version": "1.5.0",
          "state": {
            "_dom_classes": [],
            "_model_module": "@jupyter-widgets/controls",
            "_model_module_version": "1.5.0",
            "_model_name": "FloatTextModel",
            "_view_count": null,
            "_view_module": "@jupyter-widgets/controls",
            "_view_module_version": "1.5.0",
            "_view_name": "FloatTextView",
            "continuous_update": false,
            "description": "Organic Carbon:",
            "description_tooltip": null,
            "disabled": false,
            "layout": "IPY_MODEL_0584ec7f8afe44f58283110713865c0a",
            "step": null,
            "style": "IPY_MODEL_0b9782847afd484080f6277c5dcc05d3",
            "value": 0
          }
        },
        "b048e1f10e7547b8beeea457ac1a97b5": {
          "model_module": "@jupyter-widgets/controls",
          "model_name": "FloatTextModel",
          "model_module_version": "1.5.0",
          "state": {
            "_dom_classes": [],
            "_model_module": "@jupyter-widgets/controls",
            "_model_module_version": "1.5.0",
            "_model_name": "FloatTextModel",
            "_view_count": null,
            "_view_module": "@jupyter-widgets/controls",
            "_view_module_version": "1.5.0",
            "_view_name": "FloatTextView",
            "continuous_update": false,
            "description": "Trihalomethanes:",
            "description_tooltip": null,
            "disabled": false,
            "layout": "IPY_MODEL_60b8fa71ae77473d985379092e4a7b95",
            "step": null,
            "style": "IPY_MODEL_875d25c0458746c39c40760548d46923",
            "value": 0
          }
        },
        "ad248b315a724c60a033398eb51ddbc9": {
          "model_module": "@jupyter-widgets/controls",
          "model_name": "FloatTextModel",
          "model_module_version": "1.5.0",
          "state": {
            "_dom_classes": [],
            "_model_module": "@jupyter-widgets/controls",
            "_model_module_version": "1.5.0",
            "_model_name": "FloatTextModel",
            "_view_count": null,
            "_view_module": "@jupyter-widgets/controls",
            "_view_module_version": "1.5.0",
            "_view_name": "FloatTextView",
            "continuous_update": false,
            "description": "Turbidity:",
            "description_tooltip": null,
            "disabled": false,
            "layout": "IPY_MODEL_316d4247bbec4ccca0329714e6220ba8",
            "step": null,
            "style": "IPY_MODEL_eed5f710ae8d4501b3eb179895847589",
            "value": 0
          }
        },
        "d5e34bab266b47d89949b8e43fcd9a03": {
          "model_module": "@jupyter-widgets/controls",
          "model_name": "ButtonModel",
          "model_module_version": "1.5.0",
          "state": {
            "_dom_classes": [],
            "_model_module": "@jupyter-widgets/controls",
            "_model_module_version": "1.5.0",
            "_model_name": "ButtonModel",
            "_view_count": null,
            "_view_module": "@jupyter-widgets/controls",
            "_view_module_version": "1.5.0",
            "_view_name": "ButtonView",
            "button_style": "",
            "description": "Submit",
            "disabled": false,
            "icon": "",
            "layout": "IPY_MODEL_7ea51cf74f014b00bb947ec79beea0e9",
            "style": "IPY_MODEL_4a9b7fe686d947e38ad7d087622e13c6",
            "tooltip": ""
          }
        },
        "7bb197a563a442fba8b1986622f57391": {
          "model_module": "@jupyter-widgets/output",
          "model_name": "OutputModel",
          "model_module_version": "1.0.0",
          "state": {
            "_dom_classes": [],
            "_model_module": "@jupyter-widgets/output",
            "_model_module_version": "1.0.0",
            "_model_name": "OutputModel",
            "_view_count": null,
            "_view_module": "@jupyter-widgets/output",
            "_view_module_version": "1.0.0",
            "_view_name": "OutputView",
            "layout": "IPY_MODEL_a65a2b4c87f74b0cacb443c2b492062b",
            "msg_id": "",
            "outputs": []
          }
        },
        "5b6195a870714d128606f6580a950596": {
          "model_module": "@jupyter-widgets/base",
          "model_name": "LayoutModel",
          "model_module_version": "1.2.0",
          "state": {
            "_model_module": "@jupyter-widgets/base",
            "_model_module_version": "1.2.0",
            "_model_name": "LayoutModel",
            "_view_count": null,
            "_view_module": "@jupyter-widgets/base",
            "_view_module_version": "1.2.0",
            "_view_name": "LayoutView",
            "align_content": null,
            "align_items": null,
            "align_self": null,
            "border": null,
            "bottom": null,
            "display": null,
            "flex": null,
            "flex_flow": null,
            "grid_area": null,
            "grid_auto_columns": null,
            "grid_auto_flow": null,
            "grid_auto_rows": null,
            "grid_column": null,
            "grid_gap": null,
            "grid_row": null,
            "grid_template_areas": null,
            "grid_template_columns": null,
            "grid_template_rows": null,
            "height": null,
            "justify_content": null,
            "justify_items": null,
            "left": null,
            "margin": null,
            "max_height": null,
            "max_width": null,
            "min_height": null,
            "min_width": null,
            "object_fit": null,
            "object_position": null,
            "order": null,
            "overflow": null,
            "overflow_x": null,
            "overflow_y": null,
            "padding": null,
            "right": null,
            "top": null,
            "visibility": null,
            "width": null
          }
        },
        "bcf0c1aa63a84bd185a46d294f01516f": {
          "model_module": "@jupyter-widgets/base",
          "model_name": "LayoutModel",
          "model_module_version": "1.2.0",
          "state": {
            "_model_module": "@jupyter-widgets/base",
            "_model_module_version": "1.2.0",
            "_model_name": "LayoutModel",
            "_view_count": null,
            "_view_module": "@jupyter-widgets/base",
            "_view_module_version": "1.2.0",
            "_view_name": "LayoutView",
            "align_content": null,
            "align_items": null,
            "align_self": null,
            "border": null,
            "bottom": null,
            "display": null,
            "flex": null,
            "flex_flow": null,
            "grid_area": null,
            "grid_auto_columns": null,
            "grid_auto_flow": null,
            "grid_auto_rows": null,
            "grid_column": null,
            "grid_gap": null,
            "grid_row": null,
            "grid_template_areas": null,
            "grid_template_columns": null,
            "grid_template_rows": null,
            "height": null,
            "justify_content": null,
            "justify_items": null,
            "left": null,
            "margin": null,
            "max_height": null,
            "max_width": null,
            "min_height": null,
            "min_width": null,
            "object_fit": null,
            "object_position": null,
            "order": null,
            "overflow": null,
            "overflow_x": null,
            "overflow_y": null,
            "padding": null,
            "right": null,
            "top": null,
            "visibility": null,
            "width": null
          }
        },
        "81055559f21f421bb508a7118621ef50": {
          "model_module": "@jupyter-widgets/controls",
          "model_name": "DescriptionStyleModel",
          "model_module_version": "1.5.0",
          "state": {
            "_model_module": "@jupyter-widgets/controls",
            "_model_module_version": "1.5.0",
            "_model_name": "DescriptionStyleModel",
            "_view_count": null,
            "_view_module": "@jupyter-widgets/base",
            "_view_module_version": "1.2.0",
            "_view_name": "StyleView",
            "description_width": ""
          }
        },
        "dc1273c6470c4a3c9280ba1344d090a1": {
          "model_module": "@jupyter-widgets/base",
          "model_name": "LayoutModel",
          "model_module_version": "1.2.0",
          "state": {
            "_model_module": "@jupyter-widgets/base",
            "_model_module_version": "1.2.0",
            "_model_name": "LayoutModel",
            "_view_count": null,
            "_view_module": "@jupyter-widgets/base",
            "_view_module_version": "1.2.0",
            "_view_name": "LayoutView",
            "align_content": null,
            "align_items": null,
            "align_self": null,
            "border": null,
            "bottom": null,
            "display": null,
            "flex": null,
            "flex_flow": null,
            "grid_area": null,
            "grid_auto_columns": null,
            "grid_auto_flow": null,
            "grid_auto_rows": null,
            "grid_column": null,
            "grid_gap": null,
            "grid_row": null,
            "grid_template_areas": null,
            "grid_template_columns": null,
            "grid_template_rows": null,
            "height": null,
            "justify_content": null,
            "justify_items": null,
            "left": null,
            "margin": null,
            "max_height": null,
            "max_width": null,
            "min_height": null,
            "min_width": null,
            "object_fit": null,
            "object_position": null,
            "order": null,
            "overflow": null,
            "overflow_x": null,
            "overflow_y": null,
            "padding": null,
            "right": null,
            "top": null,
            "visibility": null,
            "width": null
          }
        },
        "ce17914e89864408ab7b4be419e62c0b": {
          "model_module": "@jupyter-widgets/controls",
          "model_name": "DescriptionStyleModel",
          "model_module_version": "1.5.0",
          "state": {
            "_model_module": "@jupyter-widgets/controls",
            "_model_module_version": "1.5.0",
            "_model_name": "DescriptionStyleModel",
            "_view_count": null,
            "_view_module": "@jupyter-widgets/base",
            "_view_module_version": "1.2.0",
            "_view_name": "StyleView",
            "description_width": ""
          }
        },
        "9a7b3a315f41464dab9d62ae9427b6c6": {
          "model_module": "@jupyter-widgets/base",
          "model_name": "LayoutModel",
          "model_module_version": "1.2.0",
          "state": {
            "_model_module": "@jupyter-widgets/base",
            "_model_module_version": "1.2.0",
            "_model_name": "LayoutModel",
            "_view_count": null,
            "_view_module": "@jupyter-widgets/base",
            "_view_module_version": "1.2.0",
            "_view_name": "LayoutView",
            "align_content": null,
            "align_items": null,
            "align_self": null,
            "border": null,
            "bottom": null,
            "display": null,
            "flex": null,
            "flex_flow": null,
            "grid_area": null,
            "grid_auto_columns": null,
            "grid_auto_flow": null,
            "grid_auto_rows": null,
            "grid_column": null,
            "grid_gap": null,
            "grid_row": null,
            "grid_template_areas": null,
            "grid_template_columns": null,
            "grid_template_rows": null,
            "height": null,
            "justify_content": null,
            "justify_items": null,
            "left": null,
            "margin": null,
            "max_height": null,
            "max_width": null,
            "min_height": null,
            "min_width": null,
            "object_fit": null,
            "object_position": null,
            "order": null,
            "overflow": null,
            "overflow_x": null,
            "overflow_y": null,
            "padding": null,
            "right": null,
            "top": null,
            "visibility": null,
            "width": null
          }
        },
        "51a7e9dcbb8c408fb26799577d4c52f9": {
          "model_module": "@jupyter-widgets/controls",
          "model_name": "DescriptionStyleModel",
          "model_module_version": "1.5.0",
          "state": {
            "_model_module": "@jupyter-widgets/controls",
            "_model_module_version": "1.5.0",
            "_model_name": "DescriptionStyleModel",
            "_view_count": null,
            "_view_module": "@jupyter-widgets/base",
            "_view_module_version": "1.2.0",
            "_view_name": "StyleView",
            "description_width": ""
          }
        },
        "4d3fd1ee14984358b4def8a21dd82b0b": {
          "model_module": "@jupyter-widgets/base",
          "model_name": "LayoutModel",
          "model_module_version": "1.2.0",
          "state": {
            "_model_module": "@jupyter-widgets/base",
            "_model_module_version": "1.2.0",
            "_model_name": "LayoutModel",
            "_view_count": null,
            "_view_module": "@jupyter-widgets/base",
            "_view_module_version": "1.2.0",
            "_view_name": "LayoutView",
            "align_content": null,
            "align_items": null,
            "align_self": null,
            "border": null,
            "bottom": null,
            "display": null,
            "flex": null,
            "flex_flow": null,
            "grid_area": null,
            "grid_auto_columns": null,
            "grid_auto_flow": null,
            "grid_auto_rows": null,
            "grid_column": null,
            "grid_gap": null,
            "grid_row": null,
            "grid_template_areas": null,
            "grid_template_columns": null,
            "grid_template_rows": null,
            "height": null,
            "justify_content": null,
            "justify_items": null,
            "left": null,
            "margin": null,
            "max_height": null,
            "max_width": null,
            "min_height": null,
            "min_width": null,
            "object_fit": null,
            "object_position": null,
            "order": null,
            "overflow": null,
            "overflow_x": null,
            "overflow_y": null,
            "padding": null,
            "right": null,
            "top": null,
            "visibility": null,
            "width": null
          }
        },
        "bd46f80ebcb3495abc8135c6e0babeb5": {
          "model_module": "@jupyter-widgets/controls",
          "model_name": "DescriptionStyleModel",
          "model_module_version": "1.5.0",
          "state": {
            "_model_module": "@jupyter-widgets/controls",
            "_model_module_version": "1.5.0",
            "_model_name": "DescriptionStyleModel",
            "_view_count": null,
            "_view_module": "@jupyter-widgets/base",
            "_view_module_version": "1.2.0",
            "_view_name": "StyleView",
            "description_width": ""
          }
        },
        "c5482291760d42e5bbca0681738bb27b": {
          "model_module": "@jupyter-widgets/base",
          "model_name": "LayoutModel",
          "model_module_version": "1.2.0",
          "state": {
            "_model_module": "@jupyter-widgets/base",
            "_model_module_version": "1.2.0",
            "_model_name": "LayoutModel",
            "_view_count": null,
            "_view_module": "@jupyter-widgets/base",
            "_view_module_version": "1.2.0",
            "_view_name": "LayoutView",
            "align_content": null,
            "align_items": null,
            "align_self": null,
            "border": null,
            "bottom": null,
            "display": null,
            "flex": null,
            "flex_flow": null,
            "grid_area": null,
            "grid_auto_columns": null,
            "grid_auto_flow": null,
            "grid_auto_rows": null,
            "grid_column": null,
            "grid_gap": null,
            "grid_row": null,
            "grid_template_areas": null,
            "grid_template_columns": null,
            "grid_template_rows": null,
            "height": null,
            "justify_content": null,
            "justify_items": null,
            "left": null,
            "margin": null,
            "max_height": null,
            "max_width": null,
            "min_height": null,
            "min_width": null,
            "object_fit": null,
            "object_position": null,
            "order": null,
            "overflow": null,
            "overflow_x": null,
            "overflow_y": null,
            "padding": null,
            "right": null,
            "top": null,
            "visibility": null,
            "width": null
          }
        },
        "6927dafc2e1643edb0fea05bf4384a2d": {
          "model_module": "@jupyter-widgets/controls",
          "model_name": "DescriptionStyleModel",
          "model_module_version": "1.5.0",
          "state": {
            "_model_module": "@jupyter-widgets/controls",
            "_model_module_version": "1.5.0",
            "_model_name": "DescriptionStyleModel",
            "_view_count": null,
            "_view_module": "@jupyter-widgets/base",
            "_view_module_version": "1.2.0",
            "_view_name": "StyleView",
            "description_width": ""
          }
        },
        "5b635879eb7e415eb928d3e94ff74b43": {
          "model_module": "@jupyter-widgets/base",
          "model_name": "LayoutModel",
          "model_module_version": "1.2.0",
          "state": {
            "_model_module": "@jupyter-widgets/base",
            "_model_module_version": "1.2.0",
            "_model_name": "LayoutModel",
            "_view_count": null,
            "_view_module": "@jupyter-widgets/base",
            "_view_module_version": "1.2.0",
            "_view_name": "LayoutView",
            "align_content": null,
            "align_items": null,
            "align_self": null,
            "border": null,
            "bottom": null,
            "display": null,
            "flex": null,
            "flex_flow": null,
            "grid_area": null,
            "grid_auto_columns": null,
            "grid_auto_flow": null,
            "grid_auto_rows": null,
            "grid_column": null,
            "grid_gap": null,
            "grid_row": null,
            "grid_template_areas": null,
            "grid_template_columns": null,
            "grid_template_rows": null,
            "height": null,
            "justify_content": null,
            "justify_items": null,
            "left": null,
            "margin": null,
            "max_height": null,
            "max_width": null,
            "min_height": null,
            "min_width": null,
            "object_fit": null,
            "object_position": null,
            "order": null,
            "overflow": null,
            "overflow_x": null,
            "overflow_y": null,
            "padding": null,
            "right": null,
            "top": null,
            "visibility": null,
            "width": null
          }
        },
        "b70c79337e77450ca5883e4a510557b2": {
          "model_module": "@jupyter-widgets/controls",
          "model_name": "DescriptionStyleModel",
          "model_module_version": "1.5.0",
          "state": {
            "_model_module": "@jupyter-widgets/controls",
            "_model_module_version": "1.5.0",
            "_model_name": "DescriptionStyleModel",
            "_view_count": null,
            "_view_module": "@jupyter-widgets/base",
            "_view_module_version": "1.2.0",
            "_view_name": "StyleView",
            "description_width": ""
          }
        },
        "0584ec7f8afe44f58283110713865c0a": {
          "model_module": "@jupyter-widgets/base",
          "model_name": "LayoutModel",
          "model_module_version": "1.2.0",
          "state": {
            "_model_module": "@jupyter-widgets/base",
            "_model_module_version": "1.2.0",
            "_model_name": "LayoutModel",
            "_view_count": null,
            "_view_module": "@jupyter-widgets/base",
            "_view_module_version": "1.2.0",
            "_view_name": "LayoutView",
            "align_content": null,
            "align_items": null,
            "align_self": null,
            "border": null,
            "bottom": null,
            "display": null,
            "flex": null,
            "flex_flow": null,
            "grid_area": null,
            "grid_auto_columns": null,
            "grid_auto_flow": null,
            "grid_auto_rows": null,
            "grid_column": null,
            "grid_gap": null,
            "grid_row": null,
            "grid_template_areas": null,
            "grid_template_columns": null,
            "grid_template_rows": null,
            "height": null,
            "justify_content": null,
            "justify_items": null,
            "left": null,
            "margin": null,
            "max_height": null,
            "max_width": null,
            "min_height": null,
            "min_width": null,
            "object_fit": null,
            "object_position": null,
            "order": null,
            "overflow": null,
            "overflow_x": null,
            "overflow_y": null,
            "padding": null,
            "right": null,
            "top": null,
            "visibility": null,
            "width": null
          }
        },
        "0b9782847afd484080f6277c5dcc05d3": {
          "model_module": "@jupyter-widgets/controls",
          "model_name": "DescriptionStyleModel",
          "model_module_version": "1.5.0",
          "state": {
            "_model_module": "@jupyter-widgets/controls",
            "_model_module_version": "1.5.0",
            "_model_name": "DescriptionStyleModel",
            "_view_count": null,
            "_view_module": "@jupyter-widgets/base",
            "_view_module_version": "1.2.0",
            "_view_name": "StyleView",
            "description_width": ""
          }
        },
        "60b8fa71ae77473d985379092e4a7b95": {
          "model_module": "@jupyter-widgets/base",
          "model_name": "LayoutModel",
          "model_module_version": "1.2.0",
          "state": {
            "_model_module": "@jupyter-widgets/base",
            "_model_module_version": "1.2.0",
            "_model_name": "LayoutModel",
            "_view_count": null,
            "_view_module": "@jupyter-widgets/base",
            "_view_module_version": "1.2.0",
            "_view_name": "LayoutView",
            "align_content": null,
            "align_items": null,
            "align_self": null,
            "border": null,
            "bottom": null,
            "display": null,
            "flex": null,
            "flex_flow": null,
            "grid_area": null,
            "grid_auto_columns": null,
            "grid_auto_flow": null,
            "grid_auto_rows": null,
            "grid_column": null,
            "grid_gap": null,
            "grid_row": null,
            "grid_template_areas": null,
            "grid_template_columns": null,
            "grid_template_rows": null,
            "height": null,
            "justify_content": null,
            "justify_items": null,
            "left": null,
            "margin": null,
            "max_height": null,
            "max_width": null,
            "min_height": null,
            "min_width": null,
            "object_fit": null,
            "object_position": null,
            "order": null,
            "overflow": null,
            "overflow_x": null,
            "overflow_y": null,
            "padding": null,
            "right": null,
            "top": null,
            "visibility": null,
            "width": null
          }
        },
        "875d25c0458746c39c40760548d46923": {
          "model_module": "@jupyter-widgets/controls",
          "model_name": "DescriptionStyleModel",
          "model_module_version": "1.5.0",
          "state": {
            "_model_module": "@jupyter-widgets/controls",
            "_model_module_version": "1.5.0",
            "_model_name": "DescriptionStyleModel",
            "_view_count": null,
            "_view_module": "@jupyter-widgets/base",
            "_view_module_version": "1.2.0",
            "_view_name": "StyleView",
            "description_width": ""
          }
        },
        "316d4247bbec4ccca0329714e6220ba8": {
          "model_module": "@jupyter-widgets/base",
          "model_name": "LayoutModel",
          "model_module_version": "1.2.0",
          "state": {
            "_model_module": "@jupyter-widgets/base",
            "_model_module_version": "1.2.0",
            "_model_name": "LayoutModel",
            "_view_count": null,
            "_view_module": "@jupyter-widgets/base",
            "_view_module_version": "1.2.0",
            "_view_name": "LayoutView",
            "align_content": null,
            "align_items": null,
            "align_self": null,
            "border": null,
            "bottom": null,
            "display": null,
            "flex": null,
            "flex_flow": null,
            "grid_area": null,
            "grid_auto_columns": null,
            "grid_auto_flow": null,
            "grid_auto_rows": null,
            "grid_column": null,
            "grid_gap": null,
            "grid_row": null,
            "grid_template_areas": null,
            "grid_template_columns": null,
            "grid_template_rows": null,
            "height": null,
            "justify_content": null,
            "justify_items": null,
            "left": null,
            "margin": null,
            "max_height": null,
            "max_width": null,
            "min_height": null,
            "min_width": null,
            "object_fit": null,
            "object_position": null,
            "order": null,
            "overflow": null,
            "overflow_x": null,
            "overflow_y": null,
            "padding": null,
            "right": null,
            "top": null,
            "visibility": null,
            "width": null
          }
        },
        "eed5f710ae8d4501b3eb179895847589": {
          "model_module": "@jupyter-widgets/controls",
          "model_name": "DescriptionStyleModel",
          "model_module_version": "1.5.0",
          "state": {
            "_model_module": "@jupyter-widgets/controls",
            "_model_module_version": "1.5.0",
            "_model_name": "DescriptionStyleModel",
            "_view_count": null,
            "_view_module": "@jupyter-widgets/base",
            "_view_module_version": "1.2.0",
            "_view_name": "StyleView",
            "description_width": ""
          }
        },
        "7ea51cf74f014b00bb947ec79beea0e9": {
          "model_module": "@jupyter-widgets/base",
          "model_name": "LayoutModel",
          "model_module_version": "1.2.0",
          "state": {
            "_model_module": "@jupyter-widgets/base",
            "_model_module_version": "1.2.0",
            "_model_name": "LayoutModel",
            "_view_count": null,
            "_view_module": "@jupyter-widgets/base",
            "_view_module_version": "1.2.0",
            "_view_name": "LayoutView",
            "align_content": null,
            "align_items": null,
            "align_self": null,
            "border": null,
            "bottom": null,
            "display": null,
            "flex": null,
            "flex_flow": null,
            "grid_area": null,
            "grid_auto_columns": null,
            "grid_auto_flow": null,
            "grid_auto_rows": null,
            "grid_column": null,
            "grid_gap": null,
            "grid_row": null,
            "grid_template_areas": null,
            "grid_template_columns": null,
            "grid_template_rows": null,
            "height": null,
            "justify_content": null,
            "justify_items": null,
            "left": null,
            "margin": null,
            "max_height": null,
            "max_width": null,
            "min_height": null,
            "min_width": null,
            "object_fit": null,
            "object_position": null,
            "order": null,
            "overflow": null,
            "overflow_x": null,
            "overflow_y": null,
            "padding": null,
            "right": null,
            "top": null,
            "visibility": null,
            "width": null
          }
        },
        "4a9b7fe686d947e38ad7d087622e13c6": {
          "model_module": "@jupyter-widgets/controls",
          "model_name": "ButtonStyleModel",
          "model_module_version": "1.5.0",
          "state": {
            "_model_module": "@jupyter-widgets/controls",
            "_model_module_version": "1.5.0",
            "_model_name": "ButtonStyleModel",
            "_view_count": null,
            "_view_module": "@jupyter-widgets/base",
            "_view_module_version": "1.2.0",
            "_view_name": "StyleView",
            "button_color": null,
            "font_weight": ""
          }
        },
        "a65a2b4c87f74b0cacb443c2b492062b": {
          "model_module": "@jupyter-widgets/base",
          "model_name": "LayoutModel",
          "model_module_version": "1.2.0",
          "state": {
            "_model_module": "@jupyter-widgets/base",
            "_model_module_version": "1.2.0",
            "_model_name": "LayoutModel",
            "_view_count": null,
            "_view_module": "@jupyter-widgets/base",
            "_view_module_version": "1.2.0",
            "_view_name": "LayoutView",
            "align_content": null,
            "align_items": null,
            "align_self": null,
            "border": null,
            "bottom": null,
            "display": null,
            "flex": null,
            "flex_flow": null,
            "grid_area": null,
            "grid_auto_columns": null,
            "grid_auto_flow": null,
            "grid_auto_rows": null,
            "grid_column": null,
            "grid_gap": null,
            "grid_row": null,
            "grid_template_areas": null,
            "grid_template_columns": null,
            "grid_template_rows": null,
            "height": null,
            "justify_content": null,
            "justify_items": null,
            "left": null,
            "margin": null,
            "max_height": null,
            "max_width": null,
            "min_height": null,
            "min_width": null,
            "object_fit": null,
            "object_position": null,
            "order": null,
            "overflow": null,
            "overflow_x": null,
            "overflow_y": null,
            "padding": null,
            "right": null,
            "top": null,
            "visibility": null,
            "width": null
          }
        }
      }
    }
  },
  "cells": [
    {
      "cell_type": "markdown",
      "metadata": {
        "id": "view-in-github",
        "colab_type": "text"
      },
      "source": [
        "<a href=\"https://colab.research.google.com/github/shohidu-zzaman/GA_Sessions/blob/master/Water_Quality_Prediction.ipynb\" target=\"_parent\"><img src=\"https://colab.research.google.com/assets/colab-badge.svg\" alt=\"Open In Colab\"/></a>"
      ]
    },
    {
      "cell_type": "code",
      "execution_count": 1,
      "metadata": {
        "id": "E9FpxbUnA9bX"
      },
      "outputs": [],
      "source": [
        "# Configaration cell\n",
        "!apt-get install openjdk-8-jdk-headless -qq > /dev/null\n",
        "!wget -q http://archive.apache.org/dist/spark/spark-3.1.1/spark-3.1.1-bin-hadoop3.2.tgz\n",
        "!tar xf spark-3.1.1-bin-hadoop3.2.tgz\n",
        "!pip install -q findspark\n",
        "\n",
        "import os\n",
        "os.environ[\"JAVA_HOME\"] = \"/usr/lib/jvm/java-8-openjdk-amd64\"\n",
        "os.environ[\"SPARK_HOME\"] = \"/content/spark-3.1.1-bin-hadoop3.2\""
      ]
    },
    {
      "cell_type": "code",
      "source": [
        "# findspark initialazation cell\n",
        "import findspark\n",
        "findspark.init()"
      ],
      "metadata": {
        "id": "22gIP9nTBJNX"
      },
      "execution_count": 2,
      "outputs": []
    },
    {
      "cell_type": "code",
      "source": [
        "# Spark Session creation\n",
        "from pyspark.sql import SparkSession\n",
        "spark = SparkSession.builder.appName(\"Water_Quality_Prediction\").getOrCreate()"
      ],
      "metadata": {
        "id": "V1mm9dueBJJz"
      },
      "execution_count": 3,
      "outputs": []
    },
    {
      "cell_type": "code",
      "source": [
        "# Mounting drive\n",
        "from google.colab import drive\n",
        "drive.mount('/content/drive')"
      ],
      "metadata": {
        "colab": {
          "base_uri": "https://localhost:8080/"
        },
        "id": "m7N_eSMqBJHH",
        "outputId": "4754bb17-af01-4ce6-8480-f94c1d4c0b9f"
      },
      "execution_count": 19,
      "outputs": [
        {
          "output_type": "stream",
          "name": "stdout",
          "text": [
            "Drive already mounted at /content/drive; to attempt to forcibly remount, call drive.mount(\"/content/drive\", force_remount=True).\n"
          ]
        }
      ]
    },
    {
      "cell_type": "markdown",
      "source": [
        "Data load"
      ],
      "metadata": {
        "id": "RhJnJ2DvbgCd"
      }
    },
    {
      "cell_type": "code",
      "source": [
        "record_data_path = '/content/drive/MyDrive/big_data_project_water_prediction/water_potability.csv'"
      ],
      "metadata": {
        "id": "zkrl0mdSBJCC"
      },
      "execution_count": 20,
      "outputs": []
    },
    {
      "cell_type": "code",
      "source": [
        "record_dataset = spark.read.csv(record_data_path, header=True, inferSchema=True)\n",
        "record_dataset.show(5)"
      ],
      "metadata": {
        "colab": {
          "base_uri": "https://localhost:8080/"
        },
        "id": "XEUF9JI1BI_O",
        "outputId": "07ff7ca6-9c52-4ac7-d25c-f81f1c9dd855"
      },
      "execution_count": 21,
      "outputs": [
        {
          "output_type": "stream",
          "name": "stdout",
          "text": [
            "+-----------+-----------+-----------+-----------+-----------+------------+--------------+---------------+-----------+----------+\n",
            "|         ph|   Hardness|     Solids|Chloramines|    Sulfate|Conductivity|Organic_carbon|Trihalomethanes|  Turbidity|Potability|\n",
            "+-----------+-----------+-----------+-----------+-----------+------------+--------------+---------------+-----------+----------+\n",
            "|       null|204.8904555|20791.31898|7.300211873|368.5164413| 564.3086542|   10.37978308|    86.99097046|2.963135381|         0|\n",
            "|3.716080075|129.4229205|18630.05786|6.635245884|       null| 592.8853591|   15.18001312|    56.32907628|4.500656275|         0|\n",
            "|8.099124189|224.2362594|19909.54173|9.275883603|       null| 418.6062131|   16.86863693|    66.42009251| 3.05593375|         0|\n",
            "|8.316765884|214.3733941|22018.41744|8.059332377|356.8861356| 363.2665162|    18.4365245|    100.3416744|4.628770537|         0|\n",
            "|9.092223456|181.1015092|17978.98634|6.546599974|310.1357375| 398.4108134|   11.55827944|    31.99799273|4.075075425|         0|\n",
            "+-----------+-----------+-----------+-----------+-----------+------------+--------------+---------------+-----------+----------+\n",
            "only showing top 5 rows\n",
            "\n"
          ]
        }
      ]
    },
    {
      "cell_type": "code",
      "source": [
        "# Data Shape\n",
        "record_row_count = record_dataset.count()\n",
        "record_col_count = len(record_dataset.columns)\n",
        "\n",
        "print(f\"Record Data Shape: ({record_row_count}, {record_col_count})\")"
      ],
      "metadata": {
        "colab": {
          "base_uri": "https://localhost:8080/"
        },
        "id": "QIfmM160BI8q",
        "outputId": "56c2f51a-ad2a-4766-c58b-59319f51e0cb"
      },
      "execution_count": 22,
      "outputs": [
        {
          "output_type": "stream",
          "name": "stdout",
          "text": [
            "Record Data Shape: (3276, 10)\n"
          ]
        }
      ]
    },
    {
      "cell_type": "markdown",
      "source": [
        "# Data preprocessing"
      ],
      "metadata": {
        "id": "hpeuTynabtVi"
      }
    },
    {
      "cell_type": "markdown",
      "source": [
        "Check null value"
      ],
      "metadata": {
        "id": "0v7XeIUKcL8Q"
      }
    },
    {
      "cell_type": "code",
      "source": [
        "\n",
        "from pyspark.sql import functions as F\n",
        "from pyspark.sql.functions import col,isnan, when, count\n",
        "record_null = record_dataset.select([count(when(isnan(c) | col(c).isNull(), c)).alias(c) for c in record_dataset.columns])\n",
        "record_null.show()\n"
      ],
      "metadata": {
        "colab": {
          "base_uri": "https://localhost:8080/"
        },
        "id": "6ZWWk4jUBI5_",
        "outputId": "4ff90da6-c26c-4f4d-88ad-04cf30afa8c7"
      },
      "execution_count": 23,
      "outputs": [
        {
          "output_type": "stream",
          "name": "stdout",
          "text": [
            "+---+--------+------+-----------+-------+------------+--------------+---------------+---------+----------+\n",
            "| ph|Hardness|Solids|Chloramines|Sulfate|Conductivity|Organic_carbon|Trihalomethanes|Turbidity|Potability|\n",
            "+---+--------+------+-----------+-------+------------+--------------+---------------+---------+----------+\n",
            "|491|       0|     0|          0|    781|           0|             0|            162|        0|         0|\n",
            "+---+--------+------+-----------+-------+------------+--------------+---------------+---------+----------+\n",
            "\n"
          ]
        }
      ]
    },
    {
      "cell_type": "markdown",
      "source": [
        "Delete Null values"
      ],
      "metadata": {
        "id": "xSKVURA7cBy8"
      }
    },
    {
      "cell_type": "code",
      "source": [
        "from pyspark.sql.functions import col, when, count\n",
        "\n",
        "numerical_columns = [\"ph\", \"Hardness\", \"Solids\", \"Chloramines\", \"Sulfate\", \"Conductivity\", \"Organic_carbon\", \"Trihalomethanes\", \"Turbidity\"]\n",
        "\n",
        "empty_counts = record_dataset.agg(*[count(when(col(c) == \"\", c)).alias(c) for c in numerical_columns])\n",
        "\n",
        "empty_counts.show()\n",
        "\n",
        "record_dataset_no_empty_rows = record_dataset.replace(\"\", None).na.drop()\n",
        "\n",
        "record_dataset_no_empty_rows.show(5)\n"
      ],
      "metadata": {
        "colab": {
          "base_uri": "https://localhost:8080/"
        },
        "id": "H8q8xgVoBI0h",
        "outputId": "ae9849ec-ecb1-4f3f-85c9-b82b772fa48b"
      },
      "execution_count": 24,
      "outputs": [
        {
          "output_type": "stream",
          "name": "stdout",
          "text": [
            "+---+--------+------+-----------+-------+------------+--------------+---------------+---------+\n",
            "| ph|Hardness|Solids|Chloramines|Sulfate|Conductivity|Organic_carbon|Trihalomethanes|Turbidity|\n",
            "+---+--------+------+-----------+-------+------------+--------------+---------------+---------+\n",
            "|  0|       0|     0|          0|      0|           0|             0|              0|        0|\n",
            "+---+--------+------+-----------+-------+------------+--------------+---------------+---------+\n",
            "\n",
            "+-----------+-----------+-----------+-----------+-----------+------------+--------------+---------------+-----------+----------+\n",
            "|         ph|   Hardness|     Solids|Chloramines|    Sulfate|Conductivity|Organic_carbon|Trihalomethanes|  Turbidity|Potability|\n",
            "+-----------+-----------+-----------+-----------+-----------+------------+--------------+---------------+-----------+----------+\n",
            "|8.316765884|214.3733941|22018.41744|8.059332377|356.8861356| 363.2665162|    18.4365245|    100.3416744|4.628770537|         0|\n",
            "|9.092223456|181.1015092|17978.98634|6.546599974|310.1357375| 398.4108134|   11.55827944|    31.99799273|4.075075425|         0|\n",
            "|5.584086638|188.3133238|28748.68774|7.544868789|326.6783629| 280.4679159|    8.39973464|    54.91786184|2.559708228|         0|\n",
            "|10.22386216|248.0717353|28749.71654|7.513408466|393.6633955| 283.6516335|   13.78969532|    84.60355617|2.672988737|         0|\n",
            "|8.635848719|203.3615226|13672.09176|4.563008686|303.3097712| 474.6076449|    12.3638167|    62.79830896|4.401424715|         0|\n",
            "+-----------+-----------+-----------+-----------+-----------+------------+--------------+---------------+-----------+----------+\n",
            "only showing top 5 rows\n",
            "\n"
          ]
        }
      ]
    },
    {
      "cell_type": "markdown",
      "source": [
        "Update data shape"
      ],
      "metadata": {
        "id": "9RLWowryv0rB"
      }
    },
    {
      "cell_type": "code",
      "source": [
        "record_row_count_after = record_dataset_no_empty_rows.count()\n",
        "record_col_count_after = len(record_dataset_no_empty_rows.columns)\n",
        "\n",
        "print(f\"Record Data Shape After Deletion: ({record_row_count_after}, {record_col_count_after})\")\n"
      ],
      "metadata": {
        "colab": {
          "base_uri": "https://localhost:8080/"
        },
        "id": "81T2dsNcBIxw",
        "outputId": "3ecc0a86-a039-49d9-b8fd-34092d7bf4cc"
      },
      "execution_count": 25,
      "outputs": [
        {
          "output_type": "stream",
          "name": "stdout",
          "text": [
            "Record Data Shape After Deletion: (2011, 10)\n"
          ]
        }
      ]
    },
    {
      "cell_type": "markdown",
      "source": [
        "Apply the imputer to the DataFrame"
      ],
      "metadata": {
        "id": "aChjZPtPvkBg"
      }
    },
    {
      "cell_type": "code",
      "source": [
        "from pyspark.ml.feature import Imputer\n",
        "\n",
        "# Define the input columns\n",
        "input_cols = [\"ph\", \"Hardness\", \"Solids\", \"Chloramines\", \"Sulfate\", \"Conductivity\", \"Organic_carbon\", \"Trihalomethanes\", \"Turbidity\"]\n",
        "\n",
        "# Create an imputer object\n",
        "imputer = Imputer(inputCols=input_cols, outputCols=input_cols)\n",
        "\n",
        "# Fit and transform the imputer on the dataset\n",
        "record_dataset_imputed = imputer.fit(record_dataset_no_empty_rows).transform(record_dataset_no_empty_rows)\n",
        "\n",
        "# Show the first few rows of the DataFrame after imputation\n",
        "record_dataset_imputed.show(5)\n"
      ],
      "metadata": {
        "colab": {
          "base_uri": "https://localhost:8080/"
        },
        "id": "gqr0KkuoveCb",
        "outputId": "0bac7c5b-1df7-4342-d4e4-582991694845"
      },
      "execution_count": 26,
      "outputs": [
        {
          "output_type": "stream",
          "name": "stdout",
          "text": [
            "+-----------+-----------+-----------+-----------+-----------+------------+--------------+---------------+-----------+----------+\n",
            "|         ph|   Hardness|     Solids|Chloramines|    Sulfate|Conductivity|Organic_carbon|Trihalomethanes|  Turbidity|Potability|\n",
            "+-----------+-----------+-----------+-----------+-----------+------------+--------------+---------------+-----------+----------+\n",
            "|8.316765884|214.3733941|22018.41744|8.059332377|356.8861356| 363.2665162|    18.4365245|    100.3416744|4.628770537|         0|\n",
            "|9.092223456|181.1015092|17978.98634|6.546599974|310.1357375| 398.4108134|   11.55827944|    31.99799273|4.075075425|         0|\n",
            "|5.584086638|188.3133238|28748.68774|7.544868789|326.6783629| 280.4679159|    8.39973464|    54.91786184|2.559708228|         0|\n",
            "|10.22386216|248.0717353|28749.71654|7.513408466|393.6633955| 283.6516335|   13.78969532|    84.60355617|2.672988737|         0|\n",
            "|8.635848719|203.3615226|13672.09176|4.563008686|303.3097712| 474.6076449|    12.3638167|    62.79830896|4.401424715|         0|\n",
            "+-----------+-----------+-----------+-----------+-----------+------------+--------------+---------------+-----------+----------+\n",
            "only showing top 5 rows\n",
            "\n"
          ]
        }
      ]
    },
    {
      "cell_type": "markdown",
      "source": [
        "Apply VectorAssembler"
      ],
      "metadata": {
        "id": "NzfXr3ncpSVQ"
      }
    },
    {
      "cell_type": "code",
      "source": [
        "from pyspark.ml.feature import VectorAssembler\n",
        "from pyspark.ml.regression import LinearRegression\n",
        "from pyspark.ml.evaluation import RegressionEvaluator\n",
        "\n",
        "assembler = VectorAssembler(\n",
        "    inputCols=[\"ph\", \"Hardness\", \"Solids\", \"Chloramines\", \"Sulfate\", \"Conductivity\", \"Organic_carbon\", \"Trihalomethanes\", \"Turbidity\"],\n",
        "    outputCol=\"features\")\n",
        "\n",
        "data_assembled = assembler.transform(record_dataset_imputed)\n",
        "final_data = data_assembled.select(\"features\", \"Potability\")\n",
        "\n",
        "final_data.show(5, truncate=False)\n"
      ],
      "metadata": {
        "colab": {
          "base_uri": "https://localhost:8080/"
        },
        "id": "jjX4VsbMo3rT",
        "outputId": "ee971b7b-50a4-4c80-f087-962f69f8cedd"
      },
      "execution_count": 28,
      "outputs": [
        {
          "output_type": "stream",
          "name": "stdout",
          "text": [
            "+-------------------------------------------------------------------------------------------------------------+----------+\n",
            "|features                                                                                                     |Potability|\n",
            "+-------------------------------------------------------------------------------------------------------------+----------+\n",
            "|[8.316765884,214.3733941,22018.41744,8.059332377,356.8861356,363.2665162,18.4365245,100.3416744,4.628770537] |0         |\n",
            "|[9.092223456,181.1015092,17978.98634,6.546599974,310.1357375,398.4108134,11.55827944,31.99799273,4.075075425]|0         |\n",
            "|[5.584086638,188.3133238,28748.68774,7.544868789,326.6783629,280.4679159,8.39973464,54.91786184,2.559708228] |0         |\n",
            "|[10.22386216,248.0717353,28749.71654,7.513408466,393.6633955,283.6516335,13.78969532,84.60355617,2.672988737]|0         |\n",
            "|[8.635848719,203.3615226,13672.09176,4.563008686,303.3097712,474.6076449,12.3638167,62.79830896,4.401424715] |0         |\n",
            "+-------------------------------------------------------------------------------------------------------------+----------+\n",
            "only showing top 5 rows\n",
            "\n"
          ]
        }
      ]
    },
    {
      "cell_type": "markdown",
      "source": [
        "Split Dataset"
      ],
      "metadata": {
        "id": "1dTVhQl8pNn8"
      }
    },
    {
      "cell_type": "code",
      "source": [
        "# Split the data into training and testing sets\n",
        "train_data, test_data = final_data.randomSplit([0.8, 0.2], seed=42)\n",
        "\n",
        "print(\"Training Data Count: \", train_data.count())\n",
        "print(\"Testing Data Count: \", test_data.count())"
      ],
      "metadata": {
        "colab": {
          "base_uri": "https://localhost:8080/"
        },
        "id": "3THd7STtBIsi",
        "outputId": "35869b71-88fd-4fa8-b601-9377ea511860"
      },
      "execution_count": 29,
      "outputs": [
        {
          "output_type": "stream",
          "name": "stdout",
          "text": [
            "Training Data Count:  1651\n",
            "Testing Data Count:  360\n"
          ]
        }
      ]
    },
    {
      "cell_type": "markdown",
      "source": [
        "Prepare The Model"
      ],
      "metadata": {
        "id": "8UAAEDTE14yX"
      }
    },
    {
      "cell_type": "code",
      "source": [
        "# Create a Linear Regression model\n",
        "lr = LinearRegression(featuresCol=\"features\", labelCol=\"Potability\" , predictionCol=\"predicted_potability\")\n",
        "\n",
        "# Fit the model on the training data\n",
        "model = lr.fit(train_data)"
      ],
      "metadata": {
        "id": "KJ9YNT2t14MC"
      },
      "execution_count": 30,
      "outputs": []
    },
    {
      "cell_type": "markdown",
      "source": [
        "Evaluate Performance"
      ],
      "metadata": {
        "id": "bseCldwf2Dhs"
      }
    },
    {
      "cell_type": "code",
      "source": [
        "from pyspark.ml.evaluation import RegressionEvaluator\n",
        "from pyspark.ml.stat import Summarizer\n",
        "from pyspark.sql import functions as F\n",
        "\n",
        "predictions = model.transform(test_data)\n",
        "\n",
        "# Update the column name to the one generated during the model transformation\n",
        "evaluator = RegressionEvaluator(labelCol=\"Potability\", predictionCol=\"predicted_potability\", metricName=\"rmse\")\n",
        "rmse = evaluator.evaluate(predictions)\n",
        "print(\"Root Mean Squared Error (RMSE) on test data: {:.3f}\".format(rmse))\n",
        "\n",
        "evaluator_mse = RegressionEvaluator(labelCol=\"Potability\", predictionCol=\"predicted_potability\", metricName=\"mse\")\n",
        "mse = evaluator_mse.evaluate(predictions)\n",
        "print(\"MSE on test data: {:.3f}\".format(mse))\n",
        "\n"
      ],
      "metadata": {
        "colab": {
          "base_uri": "https://localhost:8080/"
        },
        "id": "oiwURpln1ZKT",
        "outputId": "6880caad-df75-4f50-f8a0-8e3ba2f67106"
      },
      "execution_count": 31,
      "outputs": [
        {
          "output_type": "stream",
          "name": "stdout",
          "text": [
            "Root Mean Squared Error (RMSE) on test data: 0.492\n",
            "MSE on test data: 0.243\n"
          ]
        }
      ]
    },
    {
      "cell_type": "markdown",
      "source": [
        "Accurecy Result"
      ],
      "metadata": {
        "id": "zmdhyNYYscou"
      }
    },
    {
      "cell_type": "code",
      "source": [
        "# If you want to calculate accuracy for classification, you can use a binary classification evaluator\n",
        "from pyspark.ml.evaluation import BinaryClassificationEvaluator\n",
        "\n",
        "# Assuming 'Potability' is a binary class (0 or 1)\n",
        "binary_evaluator = BinaryClassificationEvaluator(labelCol=\"Potability\", rawPredictionCol=\"predicted_potability\")\n",
        "accuracy = binary_evaluator.evaluate(predictions)\n",
        "print(f\"Accuracy on test data: {accuracy}\")\n"
      ],
      "metadata": {
        "colab": {
          "base_uri": "https://localhost:8080/"
        },
        "id": "d-C9iNq6BIcn",
        "outputId": "8083b629-0223-4f8f-9383-bd08fb2eeb32"
      },
      "execution_count": 32,
      "outputs": [
        {
          "output_type": "stream",
          "name": "stdout",
          "text": [
            "Accuracy on test data: 0.5025709814442209\n"
          ]
        }
      ]
    },
    {
      "cell_type": "markdown",
      "source": [
        "Save Data"
      ],
      "metadata": {
        "id": "Mf9rf-3tBS-3"
      }
    },
    {
      "cell_type": "code",
      "source": [
        "model.save(\"/content/drive/MyDrive/big_data_project_water_prediction/load_data\")\n",
        "\n",
        "# Load the model\n",
        "from pyspark.ml.regression import LinearRegressionModel\n",
        "loaded_model = LinearRegressionModel.load(\"/content/drive/MyDrive/big_data_project_water_prediction/load_data\")"
      ],
      "metadata": {
        "id": "Wrt2ahbhBISx"
      },
      "execution_count": 34,
      "outputs": []
    },
    {
      "cell_type": "markdown",
      "source": [
        "#User Interface part"
      ],
      "metadata": {
        "id": "cGahCueYCpiW"
      }
    },
    {
      "cell_type": "code",
      "source": [
        "from IPython.display import HTML\n",
        "shell = get_ipython()\n",
        "\n",
        "def adjust_font_size():\n",
        "  display(HTML('''<style>\n",
        "    body {\n",
        "      font-size: 20px;\n",
        "    }\n",
        "  '''))\n",
        "\n",
        "if adjust_font_size not in shell.events.callbacks['pre_execute']:\n",
        "  shell.events.register('pre_execute', adjust_font_size)"
      ],
      "metadata": {
        "id": "EL-5kNTCCwZC"
      },
      "execution_count": 35,
      "outputs": []
    },
    {
      "cell_type": "code",
      "source": [
        "from pyspark.ml.feature import VectorAssembler\n",
        "from pyspark.ml.regression import LinearRegressionModel\n",
        "from pyspark.sql import SparkSession\n",
        "from pyspark.sql.types import StructType, StructField, FloatType\n",
        "import ipywidgets as widgets\n",
        "from IPython.display import display, HTML, clear_output\n",
        "\n",
        "# Initialize Spark session\n",
        "spark = SparkSession.builder.appName(\"Water_Quality_Prediction_UI\").getOrCreate()\n",
        "\n",
        "# Load the saved model\n",
        "model_path = \"/content/drive/MyDrive/big_data_project_water_prediction/load_data\"\n",
        "loaded_model = LinearRegressionModel.load(model_path)\n",
        "\n",
        "# Create input widgets\n",
        "ph_input = widgets.FloatText(description=\"pH:\")\n",
        "hardness_input = widgets.FloatText(description=\"Hardness:\")\n",
        "solids_input = widgets.FloatText(description=\"Solids:\")\n",
        "chloramines_input = widgets.FloatText(description=\"Chloramines:\")\n",
        "sulfate_input = widgets.FloatText(description=\"Sulfate:\")\n",
        "conductivity_input = widgets.FloatText(description=\"Conductivity:\")\n",
        "organic_carbon_input = widgets.FloatText(description=\"Organic Carbon:\")\n",
        "trihalomethanes_input = widgets.FloatText(description=\"Trihalomethanes:\")\n",
        "turbidity_input = widgets.FloatText(description=\"Turbidity:\")\n",
        "\n",
        "# Create submit button and result output\n",
        "submit_button = widgets.Button(description=\"Submit\")\n",
        "output_result = widgets.Output()\n",
        "\n",
        "# Define UI layout\n",
        "ui = widgets.VBox([ph_input, hardness_input, solids_input, chloramines_input, sulfate_input,\n",
        "                   conductivity_input, organic_carbon_input, trihalomethanes_input, turbidity_input,\n",
        "                   submit_button, output_result])\n",
        "\n",
        "# Display UI\n",
        "display(ui)\n",
        "\n",
        "# Define on_submit_button_click function\n",
        "def on_submit_button_click(b):\n",
        "    # Get input values\n",
        "    attributes = {\n",
        "        \"ph\": ph_input.value,\n",
        "        \"Hardness\": hardness_input.value,\n",
        "        \"Solids\": solids_input.value,\n",
        "        \"Chloramines\": chloramines_input.value,\n",
        "        \"Sulfate\": sulfate_input.value,\n",
        "        \"Conductivity\": conductivity_input.value,\n",
        "        \"Organic_carbon\": organic_carbon_input.value,\n",
        "        \"Trihalomethanes\": trihalomethanes_input.value,\n",
        "        \"Turbidity\": turbidity_input.value\n",
        "    }\n",
        "\n",
        "    # Create a DataFrame with the provided attributes using the defined schema\n",
        "    input_schema = StructType([\n",
        "        StructField(\"ph\", FloatType(), True),\n",
        "        StructField(\"Hardness\", FloatType(), True),\n",
        "        StructField(\"Solids\", FloatType(), True),\n",
        "        StructField(\"Chloramines\", FloatType(), True),\n",
        "        StructField(\"Sulfate\", FloatType(), True),\n",
        "        StructField(\"Conductivity\", FloatType(), True),\n",
        "        StructField(\"Organic_carbon\", FloatType(), True),\n",
        "        StructField(\"Trihalomethanes\", FloatType(), True),\n",
        "        StructField(\"Turbidity\", FloatType(), True)\n",
        "    ])\n",
        "\n",
        "    input_data = spark.createDataFrame([(attributes[\"ph\"], attributes[\"Hardness\"], attributes[\"Solids\"],\n",
        "                                         attributes[\"Chloramines\"], attributes[\"Sulfate\"],\n",
        "                                         attributes[\"Conductivity\"], attributes[\"Organic_carbon\"],\n",
        "                                         attributes[\"Trihalomethanes\"], attributes[\"Turbidity\"])],\n",
        "                                       schema=input_schema)\n",
        "\n",
        "    # Assemble features using VectorAssembler\n",
        "    assembler = VectorAssembler(inputCols=input_data.columns, outputCol=\"features\")\n",
        "    assembled_data = assembler.transform(input_data)\n",
        "\n",
        "    # Make predictions\n",
        "    prediction_col = loaded_model.getPredictionCol()\n",
        "    prediction = loaded_model.transform(assembled_data).select(prediction_col).collect()[0][prediction_col]\n",
        "\n",
        "    with output_result:\n",
        "        output_result.clear_output()\n",
        "        result_message = f\"The water is {'Potable' if prediction == 1.0 else 'Not Potable'}\"\n",
        "        print(result_message)\n",
        "\n",
        "# Attach on_submit_button_click function to the submit button\n",
        "submit_button.on_click(on_submit_button_click)\n"
      ],
      "metadata": {
        "colab": {
          "base_uri": "https://localhost:8080/",
          "height": 337,
          "referenced_widgets": [
            "00b3d1d1cba4449c962254127f0e5636",
            "744eab1890ba4f628648e941d7bc4401",
            "95de864a81c14f0188c135aab775fdd9",
            "fca17c72e4f04ab7993ee158e45102d9",
            "f7786bcb4c1f4a28839492803cde7621",
            "11aab4743fba4ffba3606ea5d0d03f3b",
            "aefb5f64a3ab44e58f62a90e67c8248c",
            "25eba1d18ced492d9b25d4f9851ffb3b",
            "b048e1f10e7547b8beeea457ac1a97b5",
            "ad248b315a724c60a033398eb51ddbc9",
            "d5e34bab266b47d89949b8e43fcd9a03",
            "7bb197a563a442fba8b1986622f57391",
            "5b6195a870714d128606f6580a950596",
            "bcf0c1aa63a84bd185a46d294f01516f",
            "81055559f21f421bb508a7118621ef50",
            "dc1273c6470c4a3c9280ba1344d090a1",
            "ce17914e89864408ab7b4be419e62c0b",
            "9a7b3a315f41464dab9d62ae9427b6c6",
            "51a7e9dcbb8c408fb26799577d4c52f9",
            "4d3fd1ee14984358b4def8a21dd82b0b",
            "bd46f80ebcb3495abc8135c6e0babeb5",
            "c5482291760d42e5bbca0681738bb27b",
            "6927dafc2e1643edb0fea05bf4384a2d",
            "5b635879eb7e415eb928d3e94ff74b43",
            "b70c79337e77450ca5883e4a510557b2",
            "0584ec7f8afe44f58283110713865c0a",
            "0b9782847afd484080f6277c5dcc05d3",
            "60b8fa71ae77473d985379092e4a7b95",
            "875d25c0458746c39c40760548d46923",
            "316d4247bbec4ccca0329714e6220ba8",
            "eed5f710ae8d4501b3eb179895847589",
            "7ea51cf74f014b00bb947ec79beea0e9",
            "4a9b7fe686d947e38ad7d087622e13c6",
            "a65a2b4c87f74b0cacb443c2b492062b"
          ]
        },
        "id": "Ltinrde_DB3U",
        "outputId": "9a0cf07a-c15a-47e2-9599-9f1fa343f031"
      },
      "execution_count": 36,
      "outputs": [
        {
          "output_type": "display_data",
          "data": {
            "text/plain": [
              "<IPython.core.display.HTML object>"
            ],
            "text/html": [
              "<style>\n",
              "    body {\n",
              "      font-size: 20px;\n",
              "    }\n",
              "  "
            ]
          },
          "metadata": {}
        },
        {
          "output_type": "display_data",
          "data": {
            "text/plain": [
              "VBox(children=(FloatText(value=0.0, description='pH:'), FloatText(value=0.0, description='Hardness:'), FloatTe…"
            ],
            "application/vnd.jupyter.widget-view+json": {
              "version_major": 2,
              "version_minor": 0,
              "model_id": "00b3d1d1cba4449c962254127f0e5636"
            }
          },
          "metadata": {}
        }
      ]
    }
  ]
}